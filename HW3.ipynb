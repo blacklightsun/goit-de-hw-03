{
 "cells": [
  {
   "cell_type": "code",
   "execution_count": 1,
   "id": "9183344c-ba2a-47be-ba32-3b603e6e3c23",
   "metadata": {},
   "outputs": [],
   "source": [
    "# підключення потрібних модулей\n",
    "import numpy as np\n",
    "import pandas as pd\n",
    "import matplotlib.pyplot as plt\n",
    "import seaborn as sns\n",
    "from tqdm import tqdm\n",
    "from pathlib import Path\n",
    "import shutil\n",
    "from pprint import pprint\n",
    "\n",
    "# параметри виведення\n",
    "pd.set_option(\"display.max_columns\", 500) # кількість колонок\n",
    "pd.set_option(\"display.max_rows\", 1000) # кількість рядків\n",
    "pd.set_option(\"display.max_colwidth\", 300) # ширина колонок\n",
    "pd.set_option(\"display.precision\", 5) # кількість знаків після коми\n",
    "\n",
    "# вимикаємо зайві попередження\n",
    "import warnings\n",
    "warnings.filterwarnings(\"ignore\")\n",
    "\n",
    "# друк всіх результатів в одній комірці а не тільки останнього\n",
    "from IPython.core.interactiveshell import InteractiveShell\n",
    "InteractiveShell.ast_node_interactivity = \"all\"\n",
    "\n",
    "# магічний метод для того щоб отримувати графіки біля комірок з кодом\n",
    "%matplotlib inline"
   ]
  },
  {
   "cell_type": "code",
   "execution_count": 2,
   "id": "89a9bf79-877c-42dd-bc39-f3ffa906c080",
   "metadata": {},
   "outputs": [],
   "source": [
    "# завантажуємо необхідні компоненти Spark\n",
    "from pyspark.sql import SparkSession\n",
    "from pyspark.sql.functions import col, count, round, sum, lit, round"
   ]
  },
  {
   "cell_type": "code",
   "execution_count": 4,
   "id": "e5a504c9-7aca-4867-9b0a-27b1fbd20b8c",
   "metadata": {},
   "outputs": [],
   "source": [
    "# Створюємо сесію Spark\n",
    "spark = SparkSession.builder.appName(\"MyGoitSparkSandbox\").getOrCreate()"
   ]
  },
  {
   "cell_type": "code",
   "execution_count": 5,
   "id": "3e86f533-42c5-488c-8cc9-d226588767ab",
   "metadata": {},
   "outputs": [
    {
     "name": "stdout",
     "output_type": "stream",
     "text": [
      "+----------+------------+--------+-----+\n",
      "|product_id|product_name|category|price|\n",
      "+----------+------------+--------+-----+\n",
      "|         1|   Product_1|  Beauty|  8.3|\n",
      "|         2|   Product_2|    Home|  8.3|\n",
      "+----------+------------+--------+-----+\n",
      "only showing top 2 rows\n",
      "\n",
      "+-----------+-------+----------+----------+--------+\n",
      "|purchase_id|user_id|product_id|      date|quantity|\n",
      "+-----------+-------+----------+----------+--------+\n",
      "|          1|     52|         9|2022-01-01|       1|\n",
      "|          2|     93|        37|2022-01-02|       8|\n",
      "+-----------+-------+----------+----------+--------+\n",
      "only showing top 2 rows\n",
      "\n",
      "+-------+------+---+-----------------+\n",
      "|user_id|  name|age|            email|\n",
      "+-------+------+---+-----------------+\n",
      "|      1|User_1| 45|user1@example.com|\n",
      "|      2|User_2| 48|user2@example.com|\n",
      "+-------+------+---+-----------------+\n",
      "only showing top 2 rows\n",
      "\n",
      "root\n",
      " |-- product_id: string (nullable = true)\n",
      " |-- product_name: string (nullable = true)\n",
      " |-- category: string (nullable = true)\n",
      " |-- price: string (nullable = true)\n",
      "\n",
      "root\n",
      " |-- purchase_id: string (nullable = true)\n",
      " |-- user_id: string (nullable = true)\n",
      " |-- product_id: string (nullable = true)\n",
      " |-- date: string (nullable = true)\n",
      " |-- quantity: string (nullable = true)\n",
      "\n",
      "root\n",
      " |-- user_id: string (nullable = true)\n",
      " |-- name: string (nullable = true)\n",
      " |-- age: string (nullable = true)\n",
      " |-- email: string (nullable = true)\n",
      "\n"
     ]
    }
   ],
   "source": [
    "# Завантажуємо датасет\n",
    "products = spark.read.csv('products.csv', header=True)\n",
    "purchases = spark.read.csv('purchases.csv', header=True)\n",
    "users = spark.read.csv('users.csv', header=True)\n",
    "\n",
    "# Виводимо перші 10 записів\n",
    "products.show(2)\n",
    "purchases.show(2)\n",
    "users.show(2)\n",
    "\n",
    "# перевіряємо створені датафрейми\n",
    "products.printSchema()\n",
    "purchases.printSchema()\n",
    "users.printSchema()"
   ]
  },
  {
   "cell_type": "code",
   "execution_count": 6,
   "id": "ee71ec92-40a3-4881-ad71-00bdc40c5311",
   "metadata": {},
   "outputs": [
    {
     "name": "stdout",
     "output_type": "stream",
     "text": [
      "Quantity of rows before dropna:\n"
     ]
    },
    {
     "data": {
      "text/plain": [
       "50"
      ]
     },
     "execution_count": 6,
     "metadata": {},
     "output_type": "execute_result"
    },
    {
     "data": {
      "text/plain": [
       "200"
      ]
     },
     "execution_count": 6,
     "metadata": {},
     "output_type": "execute_result"
    },
    {
     "data": {
      "text/plain": [
       "100"
      ]
     },
     "execution_count": 6,
     "metadata": {},
     "output_type": "execute_result"
    },
    {
     "name": "stdout",
     "output_type": "stream",
     "text": [
      "Quantity of rows after dropna:\n"
     ]
    },
    {
     "data": {
      "text/plain": [
       "47"
      ]
     },
     "execution_count": 6,
     "metadata": {},
     "output_type": "execute_result"
    },
    {
     "data": {
      "text/plain": [
       "195"
      ]
     },
     "execution_count": 6,
     "metadata": {},
     "output_type": "execute_result"
    },
    {
     "data": {
      "text/plain": [
       "95"
      ]
     },
     "execution_count": 6,
     "metadata": {},
     "output_type": "execute_result"
    }
   ],
   "source": [
    "# Рахуємо кількість рядків до видалення пустих значень\n",
    "print('Quantity of rows before dropna:')\n",
    "products.count()\n",
    "purchases.count()\n",
    "users.count()\n",
    "\n",
    "# Видаляємо рядки з пустими значеннями\n",
    "products = products.dropna()\n",
    "purchases = purchases.dropna()\n",
    "users = users.dropna()\n",
    "\n",
    "# Рахуємо кількість рядків після видалення пустих значень\n",
    "print('Quantity of rows after dropna:')\n",
    "products.count()\n",
    "purchases.count()\n",
    "users.count()"
   ]
  },
  {
   "cell_type": "code",
   "execution_count": 7,
   "id": "cc97f1df-21a6-4736-b20d-08afdc040209",
   "metadata": {},
   "outputs": [
    {
     "name": "stdout",
     "output_type": "stream",
     "text": [
      "+-----------+----------+--------+----------+------------+--------+-----+-------+-------+---+------------------+\n",
      "|purchase_id|      date|quantity|product_id|product_name|category|price|user_id|   name|age|             email|\n",
      "+-----------+----------+--------+----------+------------+--------+-----+-------+-------+---+------------------+\n",
      "|          1|2022-01-01|       1|         9|   Product_9|  Beauty|  6.0|     52|User_52| 39|user52@example.com|\n",
      "|          2|2022-01-02|       8|        37|  Product_37|Clothing|  6.0|     93|User_93| 25|user93@example.com|\n",
      "|          3|2022-01-03|       1|        33|  Product_33|    Home|  9.4|     15|User_15| 30|user15@example.com|\n",
      "+-----------+----------+--------+----------+------------+--------+-----+-------+-------+---+------------------+\n",
      "only showing top 3 rows\n",
      "\n",
      "root\n",
      " |-- purchase_id: string (nullable = true)\n",
      " |-- date: string (nullable = true)\n",
      " |-- quantity: string (nullable = true)\n",
      " |-- product_id: string (nullable = true)\n",
      " |-- product_name: string (nullable = true)\n",
      " |-- category: string (nullable = true)\n",
      " |-- price: string (nullable = true)\n",
      " |-- user_id: string (nullable = true)\n",
      " |-- name: string (nullable = true)\n",
      " |-- age: string (nullable = true)\n",
      " |-- email: string (nullable = true)\n",
      "\n"
     ]
    }
   ],
   "source": [
    "# перейменовуємо ключові колонки\n",
    "denormalized_df = purchases.withColumnRenamed('product_id', 'product_id_1').withColumnRenamed('user_id', 'user_id_1')\n",
    "# приєднуємо довідники продуктів та юзерів\n",
    "denormalized_df = denormalized_df.join(products, denormalized_df.product_id_1 == products.product_id, 'inner')\n",
    "denormalized_df = denormalized_df.join(users, denormalized_df.user_id_1 == users.user_id, 'inner')\n",
    "# видаляємо зайві колонки\n",
    "denormalized_df = denormalized_df.drop(denormalized_df.user_id_1, denormalized_df.product_id_1)\n",
    "# перевіряємо що вийшло\n",
    "denormalized_df.show(3)\n",
    "denormalized_df.printSchema()"
   ]
  },
  {
   "cell_type": "code",
   "execution_count": 8,
   "id": "d07f99dd-d29c-4291-83d1-9114a51663e7",
   "metadata": {},
   "outputs": [
    {
     "name": "stdout",
     "output_type": "stream",
     "text": [
      "+-----------+------------------+\n",
      "|   category|      category_sum|\n",
      "+-----------+------------------+\n",
      "|       Home|1438.8999999999999|\n",
      "|     Sports|1755.4999999999998|\n",
      "|Electronics|1141.8999999999999|\n",
      "|   Clothing|             696.1|\n",
      "|     Beauty|441.69999999999993|\n",
      "+-----------+------------------+\n",
      "\n"
     ]
    }
   ],
   "source": [
    "# завдання 3 - Визначте загальну суму покупок за кожною категорією продуктів\n",
    "denormalized_df \\\n",
    "    .withColumn('purchase_sum', (col('quantity') * col('price'))) \\\n",
    "    .select('category', 'purchase_sum').groupBy('category').sum() \\\n",
    "    .withColumnRenamed('sum(purchase_sum)', 'category_sum') \\\n",
    "    .show()"
   ]
  },
  {
   "cell_type": "code",
   "execution_count": 9,
   "id": "c5b73c20-24c2-4384-8358-d3d0fce7a6cf",
   "metadata": {},
   "outputs": [
    {
     "name": "stdout",
     "output_type": "stream",
     "text": [
      "+-----------+------------------+\n",
      "|   category|      category_sum|\n",
      "+-----------+------------------+\n",
      "|       Home|174.70000000000002|\n",
      "|     Sports|310.49999999999994|\n",
      "|Electronics|             176.0|\n",
      "|   Clothing|             245.0|\n",
      "|     Beauty|41.400000000000006|\n",
      "+-----------+------------------+\n",
      "\n"
     ]
    }
   ],
   "source": [
    "# завдання 4 - Визначте суму покупок за кожною категорією продуктів для вікової категорії від 18 до 25 включно\n",
    "denormalized_df.where((col('age') > 18) & (col('age') <= 25)) \\\n",
    "    .withColumn('purchase_sum', col('quantity') * col('price')) \\\n",
    "    .select('category', 'purchase_sum').groupBy('category').sum() \\\n",
    "    .withColumnRenamed('sum(purchase_sum)', 'category_sum') \\\n",
    "    .show()"
   ]
  },
  {
   "cell_type": "code",
   "execution_count": 10,
   "id": "abd33c83-6d7d-4db2-b0ca-4cc9e3aed131",
   "metadata": {},
   "outputs": [
    {
     "name": "stdout",
     "output_type": "stream",
     "text": [
      "+-----------+------------------+-----------------+----------------------+\n",
      "|   category|      category_sum|        total_sum|purchase_share_percent|\n",
      "+-----------+------------------+-----------------+----------------------+\n",
      "|       Home|174.70000000000002|947.5999999999999|                 18.44|\n",
      "|     Sports|310.49999999999994|947.5999999999999|                 32.77|\n",
      "|Electronics|             176.0|947.5999999999999|                 18.57|\n",
      "|   Clothing|             245.0|947.5999999999999|                 25.85|\n",
      "|     Beauty|41.400000000000006|947.5999999999999|                  4.37|\n",
      "+-----------+------------------+-----------------+----------------------+\n",
      "\n"
     ]
    }
   ],
   "source": [
    "# завдання 5 - Визначте частку покупок за кожною категорією товарів від сумарних витрат для вікової категорії від 18 до 25 років\n",
    "denormalized_df.where((col('age') > 18) & (col('age') <= 25)) \\\n",
    "    .withColumn('purchase_sum', col('quantity') * col('price')) \\\n",
    "    .select('category', 'purchase_sum').groupBy('category').sum() \\\n",
    "    .withColumnRenamed('sum(purchase_sum)', 'category_sum') \\\n",
    "    .withColumn('total_sum', lit(denormalized_df.where((col('age') > 18) & (col('age') <= 25)) \\\n",
    "    .agg(sum(col('quantity') * col('price'))).collect()[0][0])) \\\n",
    "    .withColumn('purchase_share_percent', round(col('category_sum') / col('total_sum') * 100, 2)) \\\n",
    "    .show()"
   ]
  },
  {
   "cell_type": "code",
   "execution_count": 11,
   "id": "97a0c29a-75c8-47fe-8772-eddd7f2bab1b",
   "metadata": {},
   "outputs": [
    {
     "name": "stdout",
     "output_type": "stream",
     "text": [
      "+-----------+------------------+-----------------+----------------------+\n",
      "|   category|      category_sum|        total_sum|purchase_share_percent|\n",
      "+-----------+------------------+-----------------+----------------------+\n",
      "|     Sports|310.49999999999994|947.5999999999999|                 32.77|\n",
      "|   Clothing|             245.0|947.5999999999999|                 25.85|\n",
      "|Electronics|             176.0|947.5999999999999|                 18.57|\n",
      "+-----------+------------------+-----------------+----------------------+\n",
      "\n"
     ]
    }
   ],
   "source": [
    "# завдання 6 - Виберіть 3 категорії продуктів з найвищим відсотком витрат споживачами віком від 18 до 25 років\n",
    "denormalized_df.where((col('age') > 18) & (col('age') <= 25)) \\\n",
    "    .withColumn('purchase_sum', col('quantity') * col('price')) \\\n",
    "    .select('category', 'purchase_sum').groupBy('category').sum() \\\n",
    "    .withColumnRenamed('sum(purchase_sum)', 'category_sum') \\\n",
    "    .withColumn('total_sum', lit(denormalized_df.where((col('age') > 18) & (col('age') <= 25)) \\\n",
    "    .agg(sum(col('quantity') * col('price'))).collect()[0][0])) \\\n",
    "    .withColumn('purchase_share_percent', round(col('category_sum') / col('total_sum') * 100, 2)) \\\n",
    "    .orderBy(col('purchase_share_percent').desc()) \\\n",
    "    .limit(3) \\\n",
    "    .show()"
   ]
  },
  {
   "cell_type": "code",
   "execution_count": 13,
   "id": "296fcca8-51da-4267-93a1-8d2f92acc6a5",
   "metadata": {},
   "outputs": [],
   "source": [
    "# Закриваємо сесію Spark\n",
    "spark.stop()"
   ]
  }
 ],
 "metadata": {
  "kernelspec": {
   "display_name": "Python 3 (ipykernel)",
   "language": "python",
   "name": "python3"
  },
  "language_info": {
   "codemirror_mode": {
    "name": "ipython",
    "version": 3
   },
   "file_extension": ".py",
   "mimetype": "text/x-python",
   "name": "python",
   "nbconvert_exporter": "python",
   "pygments_lexer": "ipython3",
   "version": "3.11.6"
  }
 },
 "nbformat": 4,
 "nbformat_minor": 5
}
